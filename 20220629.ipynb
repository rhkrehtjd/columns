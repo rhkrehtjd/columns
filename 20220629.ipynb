{
 "cells": [
  {
   "cell_type": "markdown",
   "id": "d816c585-499c-46a0-99f0-dd81df192319",
   "metadata": {},
   "source": [
    "## Automated machine learning or AutoML explained\n",
    "- Martin Heller, Infoworld\n",
    "- 2019.08.27"
   ]
  },
  {
   "cell_type": "markdown",
   "id": "1e79911f-94da-4daf-9103-c57a8a115b80",
   "metadata": {},
   "source": [
    "---"
   ]
  },
  {
   "cell_type": "markdown",
   "id": "57112714-c132-4638-bb4d-b1832edeff13",
   "metadata": {},
   "source": [
    "#### `머신러닝(딥러닝 포함)의 장애물`\n",
    "  - 1) 기술력 (데이터 과학자 필요)\n",
    "  - 2) 컴퓨팅 자원 (가속 하드웨어 구매, 클라우드의 컴퓨팅 자원 임대 등의 방식으로 해결 가능)\n"
   ]
  },
  {
   "cell_type": "markdown",
   "id": "490f2602-b42d-4015-8bb1-9c00f139b5fe",
   "metadata": {},
   "source": [
    "> 컴퓨팅 자원은 장비만 갖추면 되기에 금전적인 부분만 충족된다면 비교적 쉽게 해결 가능\n",
    "\n",
    "> 기술력을 해결할 데이터 과학자를 찾는 것이 쉽지 않음"
   ]
  },
  {
   "cell_type": "markdown",
   "id": "a8654847-4b95-44df-8aa9-a03e6d4e1982",
   "metadata": {},
   "source": [
    "---"
   ]
  },
  {
   "cell_type": "markdown",
   "id": "ff8b6ce5-20f2-4dbf-afee-f932402422e9",
   "metadata": {},
   "source": [
    "---"
   ]
  },
  {
   "cell_type": "markdown",
   "id": "d22acb69-4c43-41b2-9b65-27373d9fd1e5",
   "metadata": {},
   "source": [
    "### `AutoML (자동화된 머신러닝) ?`"
   ]
  },
  {
   "cell_type": "markdown",
   "id": "fefd5d9d-c559-4d3e-9b65-d889ae0b9682",
   "metadata": {},
   "source": [
    "- 머신러닝(딥러닝 포함) 구축 시 필요한 데이터 과학자란 조건을 제거할 수 있음\n",
    "- AutoML을 통해 labeling된 학습 데이터를 입력해주면 `최적화된 모델`을 출력해줌\n",
    "  - 이때 학습 데이터를 입력해주면 적절한 예측 결과값으로서 `**모델**`을 출력해주는 것이 중요"
   ]
  },
  {
   "cell_type": "markdown",
   "id": "fdd17e2b-1b84-42de-976d-e29776590390",
   "metadata": {},
   "source": [
    "---"
   ]
  },
  {
   "cell_type": "markdown",
   "id": "fe83d1ca-7276-43a7-a565-3d426fb250b5",
   "metadata": {},
   "source": [
    "---"
   ]
  },
  {
   "cell_type": "markdown",
   "id": "825a3ab6-c045-4f05-9253-e6ab50617381",
   "metadata": {},
   "source": [
    "> ### labeling된 학습 데이터에 따라 최적화 모델을 출력해주는 방법"
   ]
  },
  {
   "cell_type": "markdown",
   "id": "61d7e753-d0b8-4224-9acd-0c327267b518",
   "metadata": {},
   "source": [
    "1) 소프트웨어에서 단순히 데이터에 대해 모든 종류의 모델을 학습시킨 다음 가장 결과가 좋은 모델을 선택\n",
    "  \n",
    "  \n",
    "    - 앙상블 모델을 만드는 것 또한 방법이 될 수 있음"
   ]
  },
  {
   "cell_type": "markdown",
   "id": "327e403d-af32-416d-ab81-f27cc87f68a4",
   "metadata": {},
   "source": [
    "2. 최적 모델의 초매개변수를 최적화해서 더 나은 모델로 학습\n",
    "    - feature engineering으로 모델 학습\n",
    "    - 혹은 전이 학습을 통해 기본적으로 잘 학습되어진 범용 모델을 특정 데이터에 대해 맞춤 구성하는 방법"
   ]
  },
  {
   "cell_type": "markdown",
   "id": "caf24fdb-6585-40a5-bef8-d6861c4fb834",
   "metadata": {},
   "source": [
    "---"
   ]
  },
  {
   "cell_type": "markdown",
   "id": "f7d3a04b-e24c-47b7-b08a-782ba588755e",
   "metadata": {},
   "source": [
    "---"
   ]
  },
  {
   "cell_type": "markdown",
   "id": "0c2f09ed-4809-4424-a8d8-2716acc3c59c",
   "metadata": {},
   "source": [
    "> ### 초매개변수 최적화(Hyper Parameter Optimizer, HPO)"
   ]
  },
  {
   "cell_type": "markdown",
   "id": "c8129713-de58-4b4c-9f0e-c31031733f7e",
   "metadata": {},
   "source": [
    "- 대부분의 머신러닝(딥러닝) 모델에는 학습 루프 외부에 설정되는 초매개변수가 있음\n",
    "  - 이를테면, 학습률과 배제율 그리고 트리 수(랜덤 포레스트)와 같은 모델별 매개변수 등이 초매개변수에 해당"
   ]
  },
  {
   "cell_type": "markdown",
   "id": "94d7ca8f-b655-439a-9b9e-01b146ecc419",
   "metadata": {},
   "source": [
    "- HPO는 하나 이상의 모델 초매개변수를 자동으로 탐색 또는 검색해서 최선의 학습된 모델로 이어지는 집합을 탐색\n",
    "  - ~AutoML"
   ]
  },
  {
   "cell_type": "markdown",
   "id": "421353f6-f3ef-4578-866b-37f53f10d1ad",
   "metadata": {},
   "source": [
    "- 학습 루프 외부에 설정되는 초매개변수 값들에 대해 모델을 각각 재학습(이땐, 내부 루프) 시켜야 하므로 많은 시간이 소요"
   ]
  },
  {
   "cell_type": "markdown",
   "id": "4d52d6df-a00b-4cce-ab99-ed60bd2511ea",
   "metadata": {},
   "source": [
    "$\\to$ 이때 많은 모델을 병렬로 학습시키면 하드웨어를 늘려 필요한 시간을 줄일 수 있음"
   ]
  },
  {
   "cell_type": "markdown",
   "id": "bf5a8def-67de-47fc-a7cc-27b6d2cd75e1",
   "metadata": {},
   "source": [
    "----"
   ]
  },
  {
   "cell_type": "markdown",
   "id": "199e3fc8-a149-4f16-a92f-9b4ada728320",
   "metadata": {},
   "source": [
    "---"
   ]
  },
  {
   "cell_type": "markdown",
   "id": "f382d7e8-dfa8-4033-81ef-147bd54bca6a",
   "metadata": {},
   "source": [
    "> ### Feature Engineering\n",
    "  - 모든 학습 과정에서의 입력 단계에서 최적의 변수 집합과 최적의 데이터 인코딩 및 정규화를 찾는 과정\n",
    "  - 특성 선택 시 사용하는 기법 중 하나는 문제를 설명하는 독립 변수의 최소 집합을 선택하는 것\n",
    "    - 두 개의 변수가 고도로 상호 연관됐다면, 둘을 하나의 특성으로 결합하거나 하나는 배제\n",
    "    - PCA를 통해 상호 연관된 변수를 선형적 비상관 변수 집합으로 변환하는 경우도 있음"
   ]
  },
  {
   "cell_type": "markdown",
   "id": "a5ba688d-56ad-4aeb-9c6d-b7447b336fd7",
   "metadata": {},
   "source": [
    "- 또한 머신 러닝 모델 중 분류에 범주 데이터를 사용하려면 텍스트 레이블을 다른 형식으로 인코딩 해야 함\n",
    "  - 1) 레이블 인코딩(텍스트 레이블 값이 숫자로 대체)\n",
    "  - 2) 원-핫 인코딩 (각 텍스트 레이블 값이 이진 값으로 대체)"
   ]
  },
  {
   "cell_type": "markdown",
   "id": "bc108b35-f42e-4170-acea-6a07eec73cb3",
   "metadata": {},
   "source": [
    "- 머신 러닝 모델 중 회귀에 수치 데이터를 사용하려면 일반적으로 데이터를 정규화해야 함\n",
    "  - 최소최대 정규화, 평균 정규화, 표준화, 단위 길이로 스케일링\n",
    "  - 이 프로세스들을 흔히 feature scaling이라 함"
   ]
  },
  {
   "cell_type": "markdown",
   "id": "95806eed-44de-4d38-93af-92565cef0f0a",
   "metadata": {},
   "source": [
    "---"
   ]
  },
  {
   "cell_type": "markdown",
   "id": "e662de05-9c56-47eb-bc0d-c9e2289f2c27",
   "metadata": {},
   "source": [
    "---"
   ]
  },
  {
   "cell_type": "markdown",
   "id": "6499272b-879b-4131-9a75-503683116d46",
   "metadata": {},
   "source": [
    "> ### 전이 학습(맞춤 머신러닝)"
   ]
  },
  {
   "cell_type": "markdown",
   "id": "2fb25aa9-c8fc-4492-ad02-44dd27a377d8",
   "metadata": {},
   "source": [
    "- 구글 클라우드 AutoML은 데이터로 모델을 처음부터 새로 학습세티는 대신 언어 쌍 번역, 자연어 분류, 이미지 분류를 위해 자동 심층 전이 학습(다른 데이터로 학습된 기존 심층 신경망을 상요해 시작)과 신경 architecture 검색(부가적인 네트워크 계층의 적절한 조합을 찾음)을 구현\n",
    "- 일반적인 AutoML의 의미와는 다른 프로세스임\n",
    "  - 다루는 사용 사례도 일반적인 AutoML에 비해 적음\n",
    "  - 반면 지원되는 영역에서 맞춤화된 딥러닝 모델이 필요한 경우 전이 학습이 더 우수한 모델을 생산하기도 함"
   ]
  },
  {
   "cell_type": "markdown",
   "id": "c2d6e0cb-32de-4b87-b099-eac900d08c0a",
   "metadata": {},
   "source": [
    "> 전이학습 부가설명\n",
    "\n",
    "    딥러닝의 학습방법 중 하나로서, 분류나 탐지 그리고 분할 업무에 대해 학습된 딥러닝 모델을 다른 데이터셋에 활용하는 것을 말함\n",
    "    \n",
    "    데이터의 수가 적더라도 훈련된 모델에서 얻은 지식을 바탕으로 활용하는 큰 장점이 있다. \n",
    "    \n",
    "    -> 큰 데이터 셋을 사용해서 훈련된 모델을 사전 학습 모델(pre-trained model)이라고 함\n",
    "    -> fine - tuning : 사전 학습 모델의 가중치를 미세하게 조정하는 기법이며, 새롭게 분류하려는 데이터의 종류와 전체 개수를 미리 분석한 후에 그것을 바탕으로 사전 학습 모델 가중치 일부만을 재학습시키거나 또는 모든 가중치를 처음부터 다시 학습시킬 수 있음\n",
    " \n",
    "    \n",
    "    - 그렇다면 전이 학습은 어떻게 이루어질까?\n",
    "    \n",
    "    입력과 출력 데이터에 관련이 있는 풍부한 예측 모델링 문제를 원본으로 선택해야 한다.\n",
    "    이 문제에 대해 정확도가 높은 원본 모델을 개발하고, 이를 목표 모델에 활용한다. \n",
    "    이러한 모델을 다듬어서 사용하는 것이 전이학습의 큰 틀이다. \n",
    "    \n",
    "    - 전이학습의 활용?\n",
    "    \n",
    "    자율주행 일반차량 운전을 위해 훈련된 모델은 자율주행 트럭 운전에도 사용할 수 있다.\n",
    "    \n",
    "    도로 위의 다른 차량을 감지하는 모델은 자율 주행 중 오토바이나 버스를 감지하는 데에 사용할 수 있다\n",
    "    \n",
    "    바둑을 하면서 전략을 발전시킨 모델을 체스에도 적용할 수 있다. \n",
    "    \n",
    "    근육의 근전도 신호와 제스처 인식을 위한 뇌파의 유사한 물리적 특성으로 인해 전이학습이 가능하다.\n",
    "    \n",
    "    이외에도 MRI 스캔 이미지로 훈련된 모델을 초기 모델로 사용하여 CT 스캔을 분석할 수 있으며\n",
    "    \n",
    "    이메일 분류를 위해 훈련된 AI 모델로 스팸메일을 필터링할 수 있다. "
   ]
  },
  {
   "cell_type": "markdown",
   "id": "adeb3161-50d0-4592-8b20-dd9f41751c14",
   "metadata": {},
   "source": [
    "---"
   ]
  },
  {
   "cell_type": "markdown",
   "id": "d3307f0b-969c-42a8-bd8b-ff328130e2be",
   "metadata": {},
   "source": [
    "---"
   ]
  },
  {
   "cell_type": "markdown",
   "id": "c169d25c-8721-4283-9db3-ac253c69c613",
   "metadata": {},
   "source": [
    "### AutoML 서비스"
   ]
  },
  {
   "cell_type": "markdown",
   "id": "001ff151-4966-4a28-90da-2da79d82054b",
   "metadata": {},
   "source": [
    "- 3대 클라우드 서비스에는 모두 일종의 AutoML 서비스가 있음"
   ]
  },
  {
   "cell_type": "markdown",
   "id": "475580bc-1bb6-4f35-9329-730a0e3b84ba",
   "metadata": {},
   "source": [
    "1) 아마존 세이지 메이커\n",
    "  - 초매개변수 튜닝을 수행하지만 자동으로 여러 모델을 시도하거나 feature engineering을 수행하지는 않는다. \n",
    "2) 애저 머신러닝\n",
    "  - AutoML(특성과 알고리즘을 탐색)과 초매개변수 튜닝(일반적으로  AutoML에 의해 선택된 최적의 알고리즘을 대상으로 실행)이 있음\n",
    "3) 구글 클라우드 AutoML\n",
    "  - 언어 쌍 번역, 자연어 분류, 이미지 분류를 위한 심층 전이 학습"
   ]
  }
 ],
 "metadata": {
  "kernelspec": {
   "display_name": "Python 3 (ipykernel)",
   "language": "python",
   "name": "python3"
  },
  "language_info": {
   "codemirror_mode": {
    "name": "ipython",
    "version": 3
   },
   "file_extension": ".py",
   "mimetype": "text/x-python",
   "name": "python",
   "nbconvert_exporter": "python",
   "pygments_lexer": "ipython3",
   "version": "3.8.11"
  }
 },
 "nbformat": 4,
 "nbformat_minor": 5
}
