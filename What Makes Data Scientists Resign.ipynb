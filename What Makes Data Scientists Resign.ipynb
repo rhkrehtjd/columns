{
 "cells": [
  {
   "cell_type": "markdown",
   "id": "3c9a3b70-9cf4-4123-bac4-4acad21e8fa4",
   "metadata": {},
   "source": [
    "# *What Makes Data Scientists Resign*\n",
    "\n",
    "    3 aspects that make Data Scientists think about moving on to greener pastures\n",
    "    데이터 과학자들이 더 나은 환경으로 이동하는 세가지 이유"
   ]
  },
  {
   "cell_type": "markdown",
   "id": "701c8311-02df-4b4c-9f5a-fb427cc9d19a",
   "metadata": {},
   "source": [
    "[address of ref](https://towardsdatascience.com/what-makes-data-scientists-resign-77600516d0a8)"
   ]
  },
  {
   "cell_type": "markdown",
   "id": "fea7f336-f78a-4dbb-b4bd-eb4b434f04b5",
   "metadata": {},
   "source": [
    "---"
   ]
  },
  {
   "cell_type": "markdown",
   "id": "6e223f29-ab4d-4a0f-a729-0beb18eaf643",
   "metadata": {},
   "source": [
    "# `1. The Work`"
   ]
  },
  {
   "cell_type": "markdown",
   "id": "07904103-61cb-47fc-9403-95312c69ee8f",
   "metadata": {},
   "source": [
    "- 데이터 과학 분야는 지적으로 도전적인 분야이다.\n",
    "  - 즉, 지금까지 인생의 대부분을 지적으로 기울어진 사람들이 대다수일 것이다. \n",
    "  - these people have high expectations from their work \n",
    "    - it must challenge them, it must make them explore new things, implement them and make an impact.\n",
    "    - They want the work we do to be intellectually challenging. This is an important aspect of ‘engaging work’.\n",
    "- One more aspect of ‘engaging work’ is the ‘impact’ or the ‘perceived impact’ data science brings to the business. \n",
    "  - 즉, 자신의 작업이 다음 비지니스 전략 결정으로 취급되기를 바라지 그렇지 않다면 사임하기를 원한다.\n",
    "- Another aspect of ‘engaging work’ is the learning that comes along with it.\n",
    "  - When data scientists feel their learning curve has plateaued they often start looking out.\n",
    "  - 데이터 과학자들은 끊임없이 배우고 싶어한다.\n",
    "  - 자신의 학습이 일정 수준 정체되어 있다고 느낀다면 또 다른 학습 욕구를 불러일으키는 곳으로 이동한다. \n",
    "- The work must provide the opportunity and freedom to fail and learn.\n",
    "  - 데이터 과학자들은 실패할지라도 새로운 것들을 시도해보고 싶어한다. "
   ]
  },
  {
   "cell_type": "markdown",
   "id": "da4c5f2a-13b5-4613-9abc-8ad03007e7b6",
   "metadata": {},
   "source": [
    "> Give Data Scientists exciting work which can be impactful if done right, keep it changing every now and then to break monotony, focus on their training needs and give them the freedom to fail!\n",
    "\n",
    "    제대로 수행될 경우 큰 보람을 가져다주며, 때때론 단조로움을 깰 수 있는 과제들을 부여하라 \n",
    "    실패할 자유를 제공하라"
   ]
  },
  {
   "cell_type": "markdown",
   "id": "1fb606a3-a615-47e5-b47f-ae8c29bc3922",
   "metadata": {},
   "source": [
    "# `2. The people`"
   ]
  },
  {
   "cell_type": "markdown",
   "id": "711ac7b0-7e34-4b10-ad61-94c0b9a7e7c0",
   "metadata": {},
   "source": [
    "- 팀워크는 어느 조직에서나 중요하지만 데이터과학, 분석분야에서는 특히나 중요하다.\n",
    "- This domain requires a lot of collaboration between individuals from the same team or across other teams.\n",
    "- They need to do knowledge-sharing sessions, peer reviews, and meeting with clients"
   ]
  },
  {
   "cell_type": "markdown",
   "id": "205a3254-8c65-4c90-8c58-a66a8c925f35",
   "metadata": {},
   "source": [
    "> 직장 구성원을 세 분류로 나누어보자"
   ]
  },
  {
   "cell_type": "markdown",
   "id": "420799b7-c594-4528-b2b1-b19340d360ec",
   "metadata": {},
   "source": [
    "### 1. the manager / team leader"
   ]
  },
  {
   "cell_type": "markdown",
   "id": "a9a4ea70-220f-4cc0-9808-84f8cad0f83d",
   "metadata": {},
   "source": [
    "- 직원이 퇴사하는 데 가장 중요한 요소가 관리자라는 연구 결과가 있다. \n",
    "- 특히나 데이터 과학 분야에서의 작업은 지속적으로 진화하는 경우가 거의 없고 협업과 정기적인 이해 관리가 필요"
   ]
  },
  {
   "cell_type": "markdown",
   "id": "25848a14-3c16-4c3a-bf1c-12db3a20e2eb",
   "metadata": {},
   "source": [
    "### 2. The inner-layer"
   ]
  },
  {
   "cell_type": "markdown",
   "id": "60c72c98-1291-43c1-a144-1920f0d65c2f",
   "metadata": {},
   "source": [
    "- 데이터 과학자 직속 팀을 의미한다.\n",
    "- They are the core of your work-family. You brainstorm ideas with them, share your work, observe their work, exchange knowledge, give feedback, get feedback, joke around with them, eat, drink, go out — There is no escaping them!\n",
    "  - 그들과 브레인 스토밍을 하며 일을 함께 하고 그들의 작업을 지켜보며 지식을 공유하고 피드백을 주고 받으며 같이 마시고 먹는다.\n",
    "  - 탈출은 없다. \n",
    "  "
   ]
  },
  {
   "cell_type": "markdown",
   "id": "ea39179e-62d7-4744-a553-0941b432eb2c",
   "metadata": {},
   "source": [
    "### 3. The outer layer"
   ]
  },
  {
   "cell_type": "markdown",
   "id": "94ca983c-d0cb-45f8-94be-c2c6a93948df",
   "metadata": {},
   "source": [
    "- the organisation’s leadership.\n",
    "- They are responsible for developing and maintaining a positive work culture. \n",
    "- leadership is responsible for setting the vision and mission of the company and ensuring that all teams and individuals connect to it."
   ]
  },
  {
   "cell_type": "markdown",
   "id": "37b4a88b-6678-4f0e-b47f-4ed4b30d1e45",
   "metadata": {},
   "source": [
    "# `3. The rewards`"
   ]
  },
  {
   "cell_type": "markdown",
   "id": "33e16225-476d-4a7e-a7c1-cc79aad94049",
   "metadata": {},
   "source": [
    "-  Data Science is an in-demand and tough-to-replace skill set.\n",
    "  - 수요가 많고 대체하기 힘들다.\n",
    "- “Rewards” can also be thought of as an opportunity to grow professionally."
   ]
  },
  {
   "cell_type": "markdown",
   "id": "9b866d03-426d-46ba-9630-189e88a7d56d",
   "metadata": {},
   "source": [
    "- Data Scientists love to stay on when they can sense their organisation has the appetite and scope to grow them into senior roles. In some organisations, it is a must to take on a management role to rise up the ranks while in others there are individual contributor (IC) roles wherein one can grow to a fairly senior level without the compulsion of taking up management.\n",
    "- As you can guess, organisations that have a well-defined IC path have lower attrition than organisations that make it compulsory to take up management to rise up the corporate ladder."
   ]
  },
  {
   "cell_type": "markdown",
   "id": "7d4a4682-ef89-4242-9d2f-ddab3407eb40",
   "metadata": {},
   "source": [
    "---"
   ]
  },
  {
   "cell_type": "markdown",
   "id": "bf422eeb-8cff-4dcc-9a02-69b2ba4db686",
   "metadata": {},
   "source": [
    "# SUMMARY"
   ]
  },
  {
   "cell_type": "markdown",
   "id": "d5b480e6-69b4-4994-88ae-50eda79c8ead",
   "metadata": {},
   "source": [
    "- The work.\n",
    "  - Is it challenging? Engaging? Repetitive?\n",
    "  - Do I have the freedom to Fail?\n",
    "  - Do I make an Impact?\n",
    "- The people.\n",
    "  - Immediate manager: Is Micro-managing? Gives Independence? provides actionable feedback?\n",
    "  - Colleagues: Helpful and collaborative? Are they Over-competitive?\n",
    "  - Leadership: Trustworthy? Communication? Recognises good work?\n",
    "- The rewards.\n",
    "  - Compensation? Perks?\n",
    "  - Future Growth? Freedom to choose IC vs. management path?"
   ]
  }
 ],
 "metadata": {
  "kernelspec": {
   "display_name": "Python 3 (ipykernel)",
   "language": "python",
   "name": "python3"
  },
  "language_info": {
   "codemirror_mode": {
    "name": "ipython",
    "version": 3
   },
   "file_extension": ".py",
   "mimetype": "text/x-python",
   "name": "python",
   "nbconvert_exporter": "python",
   "pygments_lexer": "ipython3",
   "version": "3.9.12"
  }
 },
 "nbformat": 4,
 "nbformat_minor": 5
}
