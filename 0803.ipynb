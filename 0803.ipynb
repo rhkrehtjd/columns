{
 "cells": [
  {
   "cell_type": "markdown",
   "id": "7bcdba6e-26d1-4f0e-af85-01eabf2fb061",
   "metadata": {},
   "source": [
    "### *The Complete Roadmap to Becoming a Data Analyst With no Previous Experience*"
   ]
  },
  {
   "cell_type": "markdown",
   "id": "85e3961a-b084-4dc0-8bab-24100e1df718",
   "metadata": {},
   "source": [
    "[ref](https://towardsdatascience.com/the-complete-roadmap-to-becoming-a-data-analyst-with-no-previous-experience-952c5b3a7cbc)"
   ]
  },
  {
   "cell_type": "markdown",
   "id": "531dea7b-b6c6-41ec-bfda-a4000e5fd29e",
   "metadata": {},
   "source": [
    "> ### *Phase 1 : Programming - Excel, SQL, Pyhton/R*\n",
    "\n",
    "     you should be able to write code that runs in your chosen target languages\n",
    "     \n",
    "     Extensive knowledge of each language is unnecessary except for the parts that are necessary\n",
    "     to conduct an analysis.\n",
    "     "
   ]
  },
  {
   "cell_type": "markdown",
   "id": "1aaedcbf-186d-4c3d-8005-b2ce13ac906f",
   "metadata": {},
   "source": [
    "> ### *Phase 2: Mathematics — Arithmetic, Algebra, Statistics, and Probability*\n",
    "\n",
    "    Unlike data science where you need to have a deep understanding of linear algebra, calculus, and further mathematical disciplines which can take years to master, most data analyst positions will require just the basic mathematics that you learned early on in your education.\n",
    "    \n",
    "    this phase should just be a review of what you have already learned and possibly knocking the cobwebs off your statistics and probability knowledge.\n",
    "    \n",
    "    you should be able to carry out simple calculations that could be used to find insights into data\n",
    "    for example, you need to be able to calculate unknown values in a data set that is looking to determine the velocity of sparrows but only gives the distance and time of their flight.\n",
    "    \n",
    "    "
   ]
  },
  {
   "cell_type": "markdown",
   "id": "e2d77b89-d979-4a5f-9a0f-9776d3753e02",
   "metadata": {},
   "source": [
    "> ### *Phase 3: Data Analysis — Collecting, Cleaning, Analyzing*\n",
    "\n",
    "    Data analysis can be broken down into five steps that are universally recognized.\n",
    "    \n",
    "    step 1 : Determine the driving question. \n",
    "    set the stage for what data you need and what the result of the analysis should reveal\n",
    "    \n",
    "    step 2 : Data collection\n",
    "    At the end of the day, it’s better to have more data that gives a clear picture of what you’re looking for than too little data.\n",
    "\n",
    "    step 3 : Data cleaning \n",
    "    amending or removing incorrect or irrelevant data, checking for data completeness, removing duplicates, or producing important values, such as means or averages.\n",
    "    \n",
    "    step 4 : Data analysis\n",
    "    looking for insights within the data, including patterns, relationships, and the possibility for predictions.\n",
    "    \n",
    "    step 5 : interpretation\n",
    "    producing visualizations of the results of your data analysis"
   ]
  },
  {
   "cell_type": "markdown",
   "id": "e7e0adb6-a70b-4bb3-8b1b-7e5bfefb6762",
   "metadata": {},
   "source": [
    "> ### *Data visuallization*\n",
    "\n",
    "    "
   ]
  },
  {
   "cell_type": "code",
   "execution_count": null,
   "id": "0767eacd-8ece-4a4f-9396-f4a293fe3035",
   "metadata": {},
   "outputs": [],
   "source": []
  }
 ],
 "metadata": {
  "kernelspec": {
   "display_name": "Python 3 (ipykernel)",
   "language": "python",
   "name": "python3"
  },
  "language_info": {
   "codemirror_mode": {
    "name": "ipython",
    "version": 3
   },
   "file_extension": ".py",
   "mimetype": "text/x-python",
   "name": "python",
   "nbconvert_exporter": "python",
   "pygments_lexer": "ipython3",
   "version": "3.9.12"
  }
 },
 "nbformat": 4,
 "nbformat_minor": 5
}
