{
 "cells": [
  {
   "cell_type": "markdown",
   "id": "7bcdba6e-26d1-4f0e-af85-01eabf2fb061",
   "metadata": {},
   "source": [
    "### *The Complete Roadmap to Becoming a Data Analyst With no Previous Experience*"
   ]
  },
  {
   "cell_type": "markdown",
   "id": "85e3961a-b084-4dc0-8bab-24100e1df718",
   "metadata": {},
   "source": [
    "[ref](https://towardsdatascience.com/the-complete-roadmap-to-becoming-a-data-analyst-with-no-previous-experience-952c5b3a7cbc)"
   ]
  },
  {
   "cell_type": "markdown",
   "id": "531dea7b-b6c6-41ec-bfda-a4000e5fd29e",
   "metadata": {},
   "source": [
    "> ### *Phase 1 : Programming - Excel, SQL, Pyhton/R*\n",
    "\n",
    "     you should be able to write code that runs in your chosen target languages\n",
    "     \n",
    "     Extensive knowledge of each language is unnecessary except for the parts that are necessary\n",
    "     to conduct an analysis.\n",
    "     "
   ]
  },
  {
   "cell_type": "markdown",
   "id": "1aaedcbf-186d-4c3d-8005-b2ce13ac906f",
   "metadata": {},
   "source": [
    "> ### *Phase 2: Mathematics — Arithmetic, Algebra, Statistics, and Probability*\n",
    "\n",
    "    Unlike data science where you need to have a deep understanding of linear algebra, calculus, and further mathematical disciplines which can take years to master, most data analyst positions will require just the basic mathematics that you learned early on in your education.\n",
    "    \n",
    "    this phase should just be a review of what you have already learned and possibly knocking the cobwebs off your statistics and probability knowledge.\n",
    "    \n",
    "    you should be able to carry out simple calculations that could be used to find insights into data\n",
    "    for example, you need to be able to calculate unknown values in a data set that is looking to determine the velocity of sparrows but only gives the distance and time of their flight.\n",
    "    \n",
    "    "
   ]
  },
  {
   "cell_type": "markdown",
   "id": "e2d77b89-d979-4a5f-9a0f-9776d3753e02",
   "metadata": {},
   "source": [
    "> ### *Phase 3: Data Analysis — Collecting, Cleaning, Analyzing*\n",
    "\n",
    "    Data analysis can be broken down into five steps that are universally recognized.\n",
    "    \n",
    "    step 1 : Determine the driving question. \n",
    "    set the stage for what data you need and what the result of the analysis should reveal\n",
    "    \n",
    "    step 2 : Data collection\n",
    "    At the end of the day, it’s better to have more data that gives a clear picture of what you’re looking for than too little data.\n",
    "\n",
    "    step 3 : Data cleaning \n",
    "    amending or removing incorrect or irrelevant data, checking for data completeness, removing duplicates, or producing important values, such as means or averages.\n",
    "    \n",
    "    step 4 : Data analysis\n",
    "    looking for insights within the data, including patterns, relationships, and the possibility for predictions.\n",
    "    \n",
    "    step 5 : interpretation\n",
    "    producing visualizations of the results of your data analysis"
   ]
  },
  {
   "cell_type": "markdown",
   "id": "e7e0adb6-a70b-4bb3-8b1b-7e5bfefb6762",
   "metadata": {},
   "source": [
    "> ### *Phase 4: Data visuallization*\n",
    "\n",
    "    data를 정확하고 설득력있이 시각화하는 것은 매우 중요\n",
    "    \n",
    "    Tool : Tableau, QlikView, Microsoft Power BI, Datawrapper, Plotly etc.\n",
    "    \n",
    "    도메인 따라 권장되는 도구가 달라질 것임\n",
    "    \n",
    "    데이터 분석 결과를 정확하게 나타낼 수 있도록 시각화할 수 있어야 함\n",
    "    \n",
    "    정보를 시각적으로 왜곡시키지 않고 나타낼 수 있어야 함\n",
    "    \n",
    "    "
   ]
  },
  {
   "cell_type": "markdown",
   "id": "63446505-686f-4aa7-bd30-89673d2bf1b9",
   "metadata": {},
   "source": [
    "> ### *Phase 5 : Industry knowledge*\n",
    "\n",
    "    흔히 일컫는 도메인 지식.\n",
    "    \n",
    "    Industry knowledge is the industry-specific tool you will use to solve problems daily.\n",
    "\n",
    "    Alternatively, you need to have the business acumen to be able to determine if a company is in trouble financially based on the results of your analysis.\n",
    "    \n",
    "    Essentially, you have the skills to conduct data analyses, but now you need to gain the skills and knowledge to be able to apply them to a specific industry.\n",
    "    \n",
    "    데이터를 분석하는 것만이 아닌, 특정 분야에 해당 분석 결과를 적용할 수 있는 능력도 필요하다.\n",
    "    \n",
    "    Gaining industry knowledge can be done by reading journal articles, attending lectures at universities, listening to podcasts, reading newsletters, talking to people in the industry, and more.\n",
    "    \n",
    "    For those looking to work in business, this means conducting analyses to determine the cost-benefit structure of a company decision.\n",
    "    \n",
    "    회사 결정이 비용적 측면에서 이득이 되도록 분석이 수행되어져야 함\n",
    "    당연한 소리\n",
    "    그러려면 데이터 분석결과를 의미있게 활용 + 해석 + 대안 제시 가능하도록\n",
    "    도메인 지식이 갖추어져 있어야 한다."
   ]
  },
  {
   "cell_type": "markdown",
   "id": "5f62fa56-bea6-40ba-8e84-cd36930dad70",
   "metadata": {},
   "source": [
    "> ### *Phase 6: Portfolio*\n",
    "\n",
    "    These projects should include all of the skills you’ve learned thus far and should be relevant to your target industry.\n",
    "    \n",
    "    포트폴리오에 실을 수 있는 주제로서 data scrapping을 이야기하고 있음\n",
    "    IMDb, Job portals, E-commerce sites, Reddit(Thumbs up, Thumbs down을 통해 순위를 매기는 ... 그런 사이트인 것 같음)\n",
    "    \n",
    "    위에서 언급된 사이트들에서 scrapping을 통해 data를 수집해오고 해당 데이터들을 EDA"
   ]
  },
  {
   "cell_type": "markdown",
   "id": "041fdcff-1f58-4e7f-88d6-4f200f08f35e",
   "metadata": {},
   "source": [
    "> ### *Phase 7: Networking, Job Applications, and Technical Interview Prep*\n",
    "\n",
    "    Networking will involve attending conferences and industry events, talking to recruiters, and rubbing elbows with people who are currently analysts who may be able to put in a good word for you."
   ]
  }
 ],
 "metadata": {
  "kernelspec": {
   "display_name": "Python 3 (ipykernel)",
   "language": "python",
   "name": "python3"
  },
  "language_info": {
   "codemirror_mode": {
    "name": "ipython",
    "version": 3
   },
   "file_extension": ".py",
   "mimetype": "text/x-python",
   "name": "python",
   "nbconvert_exporter": "python",
   "pygments_lexer": "ipython3",
   "version": "3.9.12"
  }
 },
 "nbformat": 4,
 "nbformat_minor": 5
}
