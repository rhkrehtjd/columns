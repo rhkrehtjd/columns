{
 "cells": [
  {
   "cell_type": "markdown",
   "id": "0379f93d-724a-44cf-95a0-9047b96f4e5d",
   "metadata": {},
   "source": [
    "0724~"
   ]
  },
  {
   "cell_type": "markdown",
   "id": "1e4d544b-6de3-4a2e-8e11-a646265bd3c4",
   "metadata": {},
   "source": [
    "1) Macroeconomic & Financial Factors and Ordinary least Square Regression"
   ]
  },
  {
   "cell_type": "markdown",
   "id": "782fa294-e901-4024-a306-0d1b5fdd3690",
   "metadata": {},
   "source": [
    "2) MLOps Best Practices for Data Scientists"
   ]
  }
 ],
 "metadata": {
  "kernelspec": {
   "display_name": "Python 3 (ipykernel)",
   "language": "python",
   "name": "python3"
  },
  "language_info": {
   "codemirror_mode": {
    "name": "ipython",
    "version": 3
   },
   "file_extension": ".py",
   "mimetype": "text/x-python",
   "name": "python",
   "nbconvert_exporter": "python",
   "pygments_lexer": "ipython3",
   "version": "3.9.12"
  }
 },
 "nbformat": 4,
 "nbformat_minor": 5
}
