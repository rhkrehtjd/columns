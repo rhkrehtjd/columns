{
 "cells": [
  {
   "cell_type": "markdown",
   "id": "f8343ab0-b6a3-460b-940a-57d0ff7f87be",
   "metadata": {},
   "source": [
    "# Multivariate Autoregressive Models and Impulse Response Analysis\n",
    "[address of ref](https://towardsdatascience.com/multivariate-autoregressive-models-and-impulse-response-analysis-cb5ead9b2b68)"
   ]
  },
  {
   "cell_type": "markdown",
   "id": "f79d35d6-a734-406c-a8e0-614bbc4722d8",
   "metadata": {},
   "source": [
    "-  Single variable or univariate time series models are straightforward and effective; however, a model with a single dependent variable can be an oversimplification, requiring strong assumptions that may not be feasible in real-world scenarios."
   ]
  },
  {
   "cell_type": "markdown",
   "id": "3384ec0e-d712-4a77-adeb-8be36006e31c",
   "metadata": {},
   "source": [
    "- This is particularly relevant in macroeconomics, which almost always requires modeling multiple dependent variables. Hence, macroeconomics relies heavily on econometric models developed specifically for multivariate time series data."
   ]
  },
  {
   "cell_type": "markdown",
   "id": "b7102a4f-1aa8-47b8-b553-10bad1de85b8",
   "metadata": {},
   "source": [
    "- Economists, on the other hand, are also interested in understanding impulse response, which necessitates moving beyond forecasting to assess causal impact."
   ]
  },
  {
   "cell_type": "markdown",
   "id": "c92ce087-8add-4b24-811a-3bc455ec3b3a",
   "metadata": {},
   "source": [
    "---"
   ]
  },
  {
   "cell_type": "markdown",
   "id": "4ed65a8e-88ba-4442-84b9-2c2bfaf06983",
   "metadata": {},
   "source": [
    "> ### Time series Econometrics"
   ]
  },
  {
   "cell_type": "markdown",
   "id": "991dd7c8-b3bc-4033-bba5-b847d65f76a2",
   "metadata": {},
   "source": [
    "- Autoregressive is a term that describes a time-varying stochastic process."
   ]
  },
  {
   "cell_type": "markdown",
   "id": "03fcb852-9ab7-4ce7-b286-5e8491f664ce",
   "metadata": {},
   "source": [
    "- When working with time series data, there are two statistical properties to consider: stationarity and cointegration.\n",
    "  - cointegration? 공적분.\n",
    "    - 두 데이터가 같은 추세를 보이면서, 같은 길을 걸어가고 있는 정도\n",
    "    - 같이 움직이는 경향"
   ]
  },
  {
   "cell_type": "markdown",
   "id": "cfcadf04-a431-453f-ae74-4f4580951baa",
   "metadata": {},
   "source": [
    "- stationarity?\n",
    "  - a stationary time series has constant variance over time, and is without trend or periodic fluctuations, such as those caused by seasonality\n",
    "  - More often than not, time series are not stationary, and this requires transforming the series to allow for the assumption of stationarity\n",
    "    -By differencing the data, or taking the logarithm or the square root of a time series."
   ]
  },
  {
   "cell_type": "markdown",
   "id": "5677b928-77bb-4479-b907-9d4acd2f8fe3",
   "metadata": {},
   "source": [
    "- cointegration?\n",
    "  - Since a multivariate model has several variables, it is possible that cointegration relationships exist between any combination of those variables\n",
    "  - In a statistical sense, cointegration means that the differences in the means of a set of time series remain constant over time, without offering an indication of directionality. In other words, when a multivariate time series is cointegrated there is a long run, statistically significant relationship between one or more combinations of the variables"
   ]
  },
  {
   "cell_type": "markdown",
   "id": "07d1c78f-759f-4191-bc7f-7fcde5da4258",
   "metadata": {},
   "source": [
    "- Since country-level economic observations tend to be low frequency, a complication is that macroeconomic data tends to be sparsely available."
   ]
  },
  {
   "cell_type": "markdown",
   "id": "8badf1a4-31ec-4d64-bc3c-828647adb121",
   "metadata": {},
   "source": [
    "---"
   ]
  },
  {
   "cell_type": "markdown",
   "id": "6ab9229d-4aa5-45f0-8d97-2a2920fe9c92",
   "metadata": {},
   "source": [
    "> ### Vector autoregression models\n"
   ]
  },
  {
   "cell_type": "markdown",
   "id": "fa411788-5947-4792-951c-9f102025f7d9",
   "metadata": {},
   "source": [
    "- The basic VAR model can be described as covariance stationary"
   ]
  },
  {
   "cell_type": "markdown",
   "id": "ed8b6f62-c256-453a-9f4d-2cd61626462a",
   "metadata": {},
   "source": [
    "- The basic VAR model can be described as covariance stationary, this means that we are assuming that the time series process is stationary and ergodic with time invariant means, variances, and autocovariances"
   ]
  },
  {
   "cell_type": "markdown",
   "id": "36871b30-e830-4316-baf0-c21af7e26b51",
   "metadata": {},
   "source": [
    "- A simplification of a VAR model is that it explains the endogenous variables solely by their own history, apart from deterministic regressors\n",
    "  - 외생변수 논하지 않음 as to a simplification of a VAR model"
   ]
  },
  {
   "cell_type": "markdown",
   "id": "6626da2f-d4de-49f5-85a3-7f50b9ff9b7c",
   "metadata": {},
   "source": [
    "- What makes a model autoregressive is that each time series is modeled as a function of the past values, which means that the predictors are time delayed values of the series, also known as “lags”."
   ]
  },
  {
   "cell_type": "markdown",
   "id": "0617b1fe-1322-412b-a6a7-9debc8082597",
   "metadata": {},
   "source": [
    "-  In a univariate autoregressive model, the predictors or lags influence the dependent variable but not vice versa\n",
    "- conversely, in a multivariate model like VAR, the variables (ie. time series) influence each other in a bi-directional relationship."
   ]
  }
 ],
 "metadata": {
  "kernelspec": {
   "display_name": "Python 3 (ipykernel)",
   "language": "python",
   "name": "python3"
  },
  "language_info": {
   "codemirror_mode": {
    "name": "ipython",
    "version": 3
   },
   "file_extension": ".py",
   "mimetype": "text/x-python",
   "name": "python",
   "nbconvert_exporter": "python",
   "pygments_lexer": "ipython3",
   "version": "3.9.12"
  }
 },
 "nbformat": 4,
 "nbformat_minor": 5
}
