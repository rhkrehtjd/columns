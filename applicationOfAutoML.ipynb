{
 "cells": [
  {
   "cell_type": "markdown",
   "id": "304009f4-2ffe-4696-b71d-8d3b96dc9976",
   "metadata": {},
   "source": [
    "> ### AutoML 이용 실습"
   ]
  },
  {
   "cell_type": "code",
   "execution_count": 8,
   "id": "4107f5c7-a966-4af9-81da-658495024e66",
   "metadata": {},
   "outputs": [],
   "source": [
    "import pandas as pd\n",
    "df_train = pd.read_csv('train.csv').drop(['id','Store','Date','Promotion1','Promotion2','Promotion3','Promotion4','Promotion5','IsHoliday'],axis=1)\n",
    "df_test = pd.read_csv('test.csv').drop(['id','Store','Date','Promotion1','Promotion2','Promotion3','Promotion4','Promotion5','IsHoliday'],axis=1)"
   ]
  },
  {
   "cell_type": "code",
   "execution_count": 9,
   "id": "44030c34-4ddb-4580-bd9f-ae22c609a2ea",
   "metadata": {},
   "outputs": [
    {
     "data": {
      "text/html": [
       "<div>\n",
       "<style scoped>\n",
       "    .dataframe tbody tr th:only-of-type {\n",
       "        vertical-align: middle;\n",
       "    }\n",
       "\n",
       "    .dataframe tbody tr th {\n",
       "        vertical-align: top;\n",
       "    }\n",
       "\n",
       "    .dataframe thead th {\n",
       "        text-align: right;\n",
       "    }\n",
       "</style>\n",
       "<table border=\"1\" class=\"dataframe\">\n",
       "  <thead>\n",
       "    <tr style=\"text-align: right;\">\n",
       "      <th></th>\n",
       "      <th>Temperature</th>\n",
       "      <th>Fuel_Price</th>\n",
       "      <th>Unemployment</th>\n",
       "    </tr>\n",
       "  </thead>\n",
       "  <tbody>\n",
       "    <tr>\n",
       "      <th>0</th>\n",
       "      <td>68.55</td>\n",
       "      <td>3.617</td>\n",
       "      <td>6.573</td>\n",
       "    </tr>\n",
       "    <tr>\n",
       "      <th>1</th>\n",
       "      <td>62.99</td>\n",
       "      <td>3.601</td>\n",
       "      <td>6.573</td>\n",
       "    </tr>\n",
       "    <tr>\n",
       "      <th>2</th>\n",
       "      <td>67.97</td>\n",
       "      <td>3.594</td>\n",
       "      <td>6.573</td>\n",
       "    </tr>\n",
       "  </tbody>\n",
       "</table>\n",
       "</div>"
      ],
      "text/plain": [
       "   Temperature  Fuel_Price  Unemployment\n",
       "0        68.55       3.617         6.573\n",
       "1        62.99       3.601         6.573\n",
       "2        67.97       3.594         6.573"
      ]
     },
     "execution_count": 9,
     "metadata": {},
     "output_type": "execute_result"
    }
   ],
   "source": [
    "df_test.head(3)"
   ]
  },
  {
   "cell_type": "code",
   "execution_count": null,
   "id": "ea82fae4-e0ac-4056-ad8f-056d489056af",
   "metadata": {},
   "outputs": [],
   "source": []
  }
 ],
 "metadata": {
  "kernelspec": {
   "display_name": "Python 3 (ipykernel)",
   "language": "python",
   "name": "python3"
  },
  "language_info": {
   "codemirror_mode": {
    "name": "ipython",
    "version": 3
   },
   "file_extension": ".py",
   "mimetype": "text/x-python",
   "name": "python",
   "nbconvert_exporter": "python",
   "pygments_lexer": "ipython3",
   "version": "3.8.11"
  }
 },
 "nbformat": 4,
 "nbformat_minor": 5
}
